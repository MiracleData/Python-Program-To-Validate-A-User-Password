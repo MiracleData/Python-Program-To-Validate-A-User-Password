{
 "cells": [
  {
   "cell_type": "code",
   "execution_count": 1,
   "id": "70b0c607",
   "metadata": {},
   "outputs": [
    {
     "name": "stdout",
     "output_type": "stream",
     "text": [
      "Please enter your preferred password: UMaine@orono#2020\n",
      "Valid\n"
     ]
    },
    {
     "data": {
      "text/plain": [
       "True"
      ]
     },
     "execution_count": 1,
     "metadata": {},
     "output_type": "execute_result"
    }
   ],
   "source": [
    "correct_password = 'UMaine@orono#2020'\n",
    "user_input = input(\"Please enter your preferred password: \")\n",
    "def check_password(user_input):\n",
    "    if user_input == correct_password:\n",
    "        print(\"Valid\")\n",
    "        return True\n",
    "    elif len(user_input) <= 8:\n",
    "        print(\"Invalid. Reason 1: Your password should contain at least 8 characters\")\n",
    "        return False\n",
    "    elif not (any(char.isupper() for char in user_input) and any(char.islower() for char in user_input)):\n",
    "        print(\"Invalid. Reason: Your password should contain at least one uppercase and one lowercase letter\")\n",
    "        return False\n",
    "    elif not any(char.isdigit() for char in user_input):\n",
    "        print(\"Invalid. Reason: Your password should contain at least one digit\")\n",
    "        return False\n",
    "    elif not any(char in '!@#$' for char in user_input):\n",
    "        print(\"Invalid. Reason: Password must contain at least one of these four characters: !, @, #, $\")\n",
    "        return False\n",
    "\n",
    "check_password(user_input)"
   ]
  },
  {
   "cell_type": "code",
   "execution_count": 2,
   "id": "2ca8608a",
   "metadata": {},
   "outputs": [
    {
     "name": "stdout",
     "output_type": "stream",
     "text": [
      "Please enter your preferred password: UoM2018\n",
      "Invalid\n",
      "Reason 1: Your password should contain at least 8 characters\n",
      "Reason 4: Password must contain at least one of these four characters: !, @, #, $\n"
     ]
    },
    {
     "data": {
      "text/plain": [
       "False"
      ]
     },
     "execution_count": 2,
     "metadata": {},
     "output_type": "execute_result"
    }
   ],
   "source": [
    "correct_password = 'UMaine@orono#2020'\n",
    "user_input = input(\"Please enter your preferred password: \")\n",
    "\n",
    "def check_password(user_input):\n",
    "    reasons = []  # Create a list to store reasons for invalid password\n",
    "\n",
    "    if user_input == correct_password:\n",
    "        print(\"Valid\")\n",
    "        return True\n",
    "    if len(user_input) <= 8:\n",
    "        reasons.append(\"Reason 1: Your password should contain at least 8 characters\")\n",
    "    if not (any(char.isupper() for char in user_input) and any(char.islower() for char in user_input)):\n",
    "        reasons.append(\"Reason 2: Your password should contain at least one uppercase and one lowercase letter\")\n",
    "    if not any(char.isdigit() for char in user_input):\n",
    "        reasons.append(\"Reason 3: Your password should contain at least one digit\")\n",
    "    if not any(char in '!@#$' for char in user_input):\n",
    "        reasons.append(\"Reason 4: Password must contain at least one of these four characters: !, @, #, $\")\n",
    "\n",
    "    if reasons:  # Check if there are any reasons in the list\n",
    "        print(\"Invalid\")\n",
    "        for reason in reasons:\n",
    "            print(reason)\n",
    "        return False\n",
    "    else:\n",
    "        print(\"correct_password\")\n",
    "        return True\n",
    "\n",
    "check_password(user_input)"
   ]
  }
 ],
 "metadata": {
  "kernelspec": {
   "display_name": "Python 3 (ipykernel)",
   "language": "python",
   "name": "python3"
  },
  "language_info": {
   "codemirror_mode": {
    "name": "ipython",
    "version": 3
   },
   "file_extension": ".py",
   "mimetype": "text/x-python",
   "name": "python",
   "nbconvert_exporter": "python",
   "pygments_lexer": "ipython3",
   "version": "3.10.9"
  }
 },
 "nbformat": 4,
 "nbformat_minor": 5
}
